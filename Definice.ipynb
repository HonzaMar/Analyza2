{
 "cells": [
  {
   "cell_type": "markdown",
   "id": "2de10cc5-cc46-454c-b6c8-fa976bd08fea",
   "metadata": {},
   "source": [
    "# Definice obyčejné diferenciální rovnice 8.2.1 (Def 1')\n",
    "Nechť $n \\in \\mathbb{N}$ a $f:\\mathbb{R}^{n+2} \\to \\mathbb{R}$. Pak\n",
    "\\begin{equation}\n",
    "f(x,y,y',...y^{n}) = 0,\n",
    "\\end{equation}\n",
    "se nazývá skalární obyčejnou diferenciální rovnicí n-tého řádu."
   ]
  },
  {
   "cell_type": "markdown",
   "id": "43cc68fd-2414-4fcc-b96c-986f414be06f",
   "metadata": {},
   "source": [
    "# Řešení obyčejné diferenciální rovnice 8.2.3  - optional, u Duška je\n",
    "Funkci $y:(a,b) \\to \\mathbb{R}$ nazveme řešením obyčejné diferenciální rovnice, pakliže:\n",
    "\n",
    "- $y$ má na $(a,b)$ vlastní derivace n-tého řádu.\n",
    "- pro všechna $x \\in (a,b)$ platí diferenciální rovnice.\n",
    "\n",
    "Trikově můžeme každou diferenciální rovnici přepsat do tvaru rozřešeného vzhledem k nevyšší derivaci:\n",
    "\n",
    "$$\n",
    "y^{(n)} = g(x,y,y',...,y^{(n-1)})\n",
    "$$\n"
   ]
  },
  {
   "cell_type": "markdown",
   "id": "730720d6-d8b7-458c-8a7a-d6851f20b15b",
   "metadata": {},
   "source": [
    "# Prodloužení řešení ODR 8.3.3 (Def 2)\n",
    "Nechť $y_1$ řeší rovnici $y' = F(x,y)$ na intervalu $(a_1,b_1)$ a $y_2$ řeší rovnici na $(a_2,b_2)$. Jestliže $(a_1,b_1) \\subset (a_2,b_2)$ a $y_1 = y_2$ na $(a_1,b_1)$, pak řekneme, že $y_2$ je prodloužením řešení $y_1$ na interval $(a_2,b_2)$. Řešení nazveme maximálním právě tehdy, když jej nemůžeme dále rozšiřovat. "
   ]
  },
  {
   "cell_type": "markdown",
   "id": "63806e62-f498-42a7-832a-30b5826966b0",
   "metadata": {},
   "source": [
    "# Limita funkce (8.1.2)\n",
    "Nechť $f: \\mathbb{R}^N \\to \\mathbb{R}$, $x_0 \\in \\mathbb{R}^N$ je hromadným bodem $D_f$ a $y_0 \\in \\mathbb{R}$. Řekneme, že zobrazení $f$ má v bodě $x_0$ limitu $y_0$, jestliže:\n",
    "$$\n",
    "\\forall \\epsilon > 0 \\exists \\delta >0 \\, \\, \\, x\\in P_{\\delta}(x_0) \\cap D_f => f(x) \\in U_\\epsilon (y_0)\n",
    "$$\n",
    "Právě tehdy můžeme psát klasickou limitu, a sice $\\lim_{x \\to x_0}f(x) = y_0$.\n"
   ]
  },
  {
   "cell_type": "markdown",
   "id": "8d91634e-c05a-4a46-a74c-559a6ce163f4",
   "metadata": {},
   "source": [
    "# Spojitost funkce 8.1.3\n",
    "Nechť $f:\\mathbb{R}^N \\to \\mathbb{R}$ a $x_0 \\in D_f$. Řekneme, že zobrazení $f$ je v bodě $x_0$ spojité, jestliže:\n",
    "$$\n",
    "\\forall \\epsilon >0 \\exists \\delta >0 \\, \\, x\\in U_\\delta (x_0) \\cap D_f => f(x) \\in U_\\epsilon (f(x_0))\n",
    "$$"
   ]
  },
  {
   "cell_type": "markdown",
   "id": "060846cb-ac93-436e-9a4a-06301dd9f3aa",
   "metadata": {},
   "source": [
    "# Systém ODR 8.2.4\n",
    "Nechť $F: \\mathbb{R}^{m+1} \\to \\mathbb{m}$. Pak:\n",
    "$$\n",
    "y' = F(x,y)\n",
    "$$\n",
    "\n",
    "je systém obyčejných diferenciálních rovnice prvního řádu (rozřešený vzhledem k první derivaci) pro $m$ neznámých funkcíc $y_1,...,y_m$. Jeho řešením na $(a,b)$ nazveme $y = (y_1,...,y_m):(a,b)\\to\\mathbb{R}^m$ splňující:\n",
    "- $y_1,...,y_m$ mají na $(a,b)$ vlastní derivace \n",
    "- pro všechna $x\\in (a,b)$ platí $y'(x) = F(x,y(x))$"
   ]
  },
  {
   "cell_type": "markdown",
   "id": "238460a2-a219-4d23-ba31-889a05806a94",
   "metadata": {},
   "source": [
    "# Cauchyho úloha 8.3.1\n",
    "Cauchyovou úlohou pro rovnici $y' = F(x,y)$ na $(a,b)$, kde $F: \\mathbb{R}^{n+1} \\to \\mathbb{R}$, rozumíme hledání vektorové funkce $y: \\mathbb{R} \\to \\mathbb{R}^n$ splňující $y'(x) = F(x,y(x))$ na $(a,b)$ a $y(x_0) = y_0$, kde $x_0 \\in (a,b)$ a $y_0 \\in \\mathbb{R}^n$ jsou zadaná hodnoty, které přirozeně patří do definičního oboru $F$."
   ]
  },
  {
   "cell_type": "code",
   "execution_count": null,
   "id": "1efecb89-e4b3-4390-b9e3-5be5e5c70ba9",
   "metadata": {},
   "outputs": [],
   "source": []
  }
 ],
 "metadata": {
  "kernelspec": {
   "display_name": "Python 3 (ipykernel)",
   "language": "python",
   "name": "python3"
  },
  "language_info": {
   "codemirror_mode": {
    "name": "ipython",
    "version": 3
   },
   "file_extension": ".py",
   "mimetype": "text/x-python",
   "name": "python",
   "nbconvert_exporter": "python",
   "pygments_lexer": "ipython3",
   "version": "3.11.4"
  }
 },
 "nbformat": 4,
 "nbformat_minor": 5
}
