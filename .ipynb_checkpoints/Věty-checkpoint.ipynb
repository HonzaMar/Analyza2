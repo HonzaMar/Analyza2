{
 "cells": [
  {
   "cell_type": "markdown",
   "id": "e2103c21-6c6e-45c0-9b65-45d651152c28",
   "metadata": {},
   "source": [
    "# Řešení rovnice se separovanými proměnnými 8.4.6\n",
    "Nechť $f: \\mathbb{R} \\to \\mathbb{R}$ je spojitá na $(a,b)\\subset \\mathbb{R}$ a $g:\\mathbb{R}\\to \\mathbb{R}$ je spojitá a nenulová na $(\\alpha,\\beta)\\subset \\mathbb{R}$. Nechť $F$ je primitivní funkce k $f$ na $(a,b)$ a $G$ je primitivní funkce k $y \\mapsto \\frac{1}{g(y)}$ na $(\\alpha,\\beta)$. Pak na intervalu $G((\\alpha,\\beta))$ existuje inverzní funkce $G^{-1}$ a každé maximální řešení $\\omega = (a,b) \\cross (\\alpha,\\beta)$ má tvar:\n",
    "\n",
    "$$\n",
    "y(x) = G^{-1}(F(x) + C),\n",
    "$$\n",
    "kde $C \\in \\mathbb{R}$ je definováno na otevřeném intervalu\n",
    "$$\n",
    "I = {x \\in(a,b): \\exists y \\in (\\alpha,\\beta) G(y) = F(x) + C}\n",
    "$$\n",
    "Navíc každým bodem $(x_0,y_0) \\subset \\Omega$ prochází právě jedno maximální řešení $(v,\\omega)$.\n",
    "\\\\\n",
    "\n",
    "*Důkaz:*\n",
    "\n",
    "Začněme tím, že $\\frac{1}{g} \\neq 0$ na $(c,d)$ a současně je zde spojitá, proto musí notně existovat na tomto intervalu i inverze. Protože $f(x)$ je spojitá na intervalu $(a,b)$, tak musí existovat primitivní funkce $F$. Dále z $G'\\neq 0$ plyne, že $G$ je ryze monotónní na $(c,d)$. Odtud potom jenom hloupej řetětec implikací:\n",
    "$$\n",
    "y' = [G^{-1}(F(x))]' = G^{-1}(F(x)) f(x) = \\frac{1}{G'(G^{-1}(F(x)))} = g(G^{-1}(F(x))) f(x) = g(y(x)) f(x)\n",
    "$$\n",
    "# No jako zbytek # TODO\n",
    "### Jednoznačnost\n",
    "Nechť $y(x),x\\inI\\subset(a,b)$, řešení $y'(x) = g(y(x))f(x)$ a $y(x_0)=y_0$:\n",
    "$$\n",
    "\\frac{y'(x)}{g(y(x))} = f(x)\n",
    "$$"
   ]
  },
  {
   "cell_type": "markdown",
   "id": "098beb44-71e8-4a89-ad12-3ee3daf40952",
   "metadata": {},
   "source": [
    "# Peanova věta 8.3.4"
   ]
  }
 ],
 "metadata": {
  "kernelspec": {
   "display_name": "Python 3 (ipykernel)",
   "language": "python",
   "name": "python3"
  },
  "language_info": {
   "codemirror_mode": {
    "name": "ipython",
    "version": 3
   },
   "file_extension": ".py",
   "mimetype": "text/x-python",
   "name": "python",
   "nbconvert_exporter": "python",
   "pygments_lexer": "ipython3",
   "version": "3.11.4"
  }
 },
 "nbformat": 4,
 "nbformat_minor": 5
}
