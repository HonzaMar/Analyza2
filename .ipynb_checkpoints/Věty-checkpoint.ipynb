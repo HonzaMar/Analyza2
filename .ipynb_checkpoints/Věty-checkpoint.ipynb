{
 "cells": [
  {
   "cell_type": "markdown",
   "id": "e2103c21-6c6e-45c0-9b65-45d651152c28",
   "metadata": {},
   "source": [
    "# Řešení rovnice se separovanými proměnnými 8.4.6\n",
    "Nechť $f: \\mathbb{R} \\to \\mathbb{R}$ je spojitá na $(a,b)\\subset \\mathbb{R}$ a $g:\\mathbb{R}\\to \\mathbb{R}$ je spojitá a nenulová na $(\\alpha,\\beta)\\subset \\mathbb{R}$. Nechť $F$ je primitivní funkce k $f$ na $(a,b)$ a $G$ je primitivní funkce k $y \\mapsto \\frac{1}{g(y)}$ na $(\\alpha,\\beta)$. Pak na intervalu $G((\\alpha,\\beta))$ existuje inverzní funkce $G^{-1}$ a každé maximální řešení $\\omega = (a,b) \\cross (\\alpha,\\beta)$ má tvar:\n",
    "\n",
    "$$\n",
    "y(x) = G^{-1}(F(x) + C),\n",
    "$$\n",
    "kde $C \\in \\mathbb{R}$ je definováno na otevřeném intervalu\n",
    "$$\n",
    "I = {x \\in(a,b): \\exists y \\in (\\alpha,\\beta) G(y) = F(x) + C}\n",
    "$$\n",
    "Navíc každým bodem $(x_0,y_0) \\subset \\Omega$ prochází právě jedno maximální řešení $(v,\\omega)$.\n",
    "\\\\\n",
    "\n",
    "*Důkaz:*\n",
    "\n",
    "Začněme tím, že $\\frac{1}{g} \\neq 0$ na $(c,d)$ a současně je zde spojitá, proto musí notně existovat na tomto intervalu i inverze. Protože $f(x)$ je spojitá na intervalu $(a,b)$, tak musí existovat primitivní funkce $F$. Dále z $G'\\neq 0$ plyne, že $G$ je ryze monotónní na $(c,d)$. Odtud potom jenom hloupej řetětec implikací:\n",
    "$$\n",
    "y' = [G^{-1}(F(x))]' = G^{-1}(F(x)) f(x) = \\frac{1}{G'(G^{-1}(F(x)))} = g(G^{-1}(F(x))) f(x) = g(y(x)) f(x)\n",
    "$$\n",
    "# No jako zbytek # TODO\n",
    "### Jednoznačnost\n",
    "Nechť $y(x),x\\inI\\subset(a,b)$, řešení $y'(x) = g(y(x))f(x)$ a $y(x_0)=y_0$:\n",
    "$$\n",
    "\\frac{y'(x)}{g(y(x))} = f(x)\n",
    "$$"
   ]
  },
  {
   "cell_type": "markdown",
   "id": "098beb44-71e8-4a89-ad12-3ee3daf40952",
   "metadata": {},
   "source": [
    "# Peanova věta 8.3.4 (Věta 4 v Dif. rovnicích)\n",
    "Mějme $F: \\mathbb{R}^{n+1} \\to \\mathbb{R}^n$ spojitou na otevřené $\\Omega \\subset \\mathbb{R}^{n+1}$ a $(x_0,y_0) \\in \\Omega$. Potom $\\exists \\delta >0$ tak, že na intervalu $(x_0 -\\delta,x_0 + \\delta)$ existuje řešení Cauchyho úlohy $y'=F(x,y) y_0 = y(x_0)$"
   ]
  },
  {
   "cell_type": "markdown",
   "id": "ce0e469c-4ffe-4cb0-946f-cf4595df6fa7",
   "metadata": {},
   "source": [
    "# Věta 11.1.7 (Věta 3 v metrikách)\n",
    "Mějme normovaný VP $(V,||\\cdot||)$. Potom $(V,\\rho)$, kde $\\rho(x,y) =||x-y||$ je též metrický prostor."
   ]
  },
  {
   "cell_type": "markdown",
   "id": "b2ecef1d-205b-436e-ba76-47c41c752660",
   "metadata": {},
   "source": [
    "# Není ve skriptech(Věta 6 v metrikách)\n",
    "- 1. $\\emptyset,P$ jsou otevření i uzavřené v $P$\n",
    "- 2. Množiny $G_i$ pro $i \\in I$($i$ v nějakém množině) jsou všechny otevřené, potom $\\cup$_{i \\in I}(Sjednocení všech těchto množin)$G_i$ je taktéž otevřené\n",
    "- 3. $F_i$ $i\\in I$ jsou uzavřené, potom $\\cap_{i \\in I} F_i$ je taktéž uzavřené\n",
    "- 4. $G_1,...G_k$ jsou otevření pro $\\cap_{i=1} G_i$ platí, že je také otevřený\n",
    "- 5. $G_1,...G_k$ jsou uzavřené pro $\\cap_{i=1} G_i$ platí, že je také uzavřený\n",
    "\\\\\n",
    "\n",
    "## Důkazy:\n",
    "*První tvrzení*\n",
    "- Přímo z definice\n",
    "\\\\\n",
    "\n",
    "*Druhé tvrzení*\n",
    "- $x \\in \\cup_{i \\in I}G_i$ $\\exists j \\in I$ $x \\in G_j$, $G_j$ je otevřené. Potom: $\\exists r >0 \\, B(x,r)\\subset G_j => B(x,r) \\subset \\cup_{i \\in I} G_i$ \n",
    "\\\\\n",
    "\n",
    "*Čtvrté tvrzení*\n",
    "- $x \\in \\cap_{i \\in I} G_i$, $x\\in G_i$, $i \\in \\mathbb{N}$. Potom:\n",
    "$\\exists r_1,...,r_k >0$ $B(x_j,r_j) \\subset G_j \\forall j= 1,...,k$. DÁle pro $y = min${$r_1,...r_k$} platí, že $B(x,r)\\subset \\cap_{i=1}B(x,r) \\subset_{i=1}G_i$\n",
    "\\\\\n",
    "\n",
    "*Třetí a páté*\n",
    "- De morgan :)"
   ]
  },
  {
   "cell_type": "markdown",
   "id": "51fbaba8-f331-4a64-bc6e-6e352f7066de",
   "metadata": {},
   "source": [
    "# Věta 7 - TODO"
   ]
  },
  {
   "cell_type": "markdown",
   "id": "95345a54-e827-452d-bc6c-c29d3fdff8f1",
   "metadata": {},
   "source": [
    "# Ve skriptech nevím číslo (Věta 8)\n",
    "$A^{-} = \\cap F$ je nejmenší uzavřená nadmnožina $A$.\n",
    "\n",
    "## Důkaz\n",
    "Stejný jako ve větě 7"
   ]
  },
  {
   "cell_type": "markdown",
   "id": "59e5b06b-fd0a-4e40-a534-a56d407cfc8a",
   "metadata": {},
   "source": [
    "# Ekvivalentní metriky generují stejnou konvergenci 11.2.9 (Věta 10)\n",
    "Nechť $P$ je množina a $\\rho_1,\\rho_2$ jsou dvě ekvivalentní metriky na $P$. Potom pro každou posloupnost {$x_n$}$\\subset P$ a $x\\in P$ platí:\n",
    "$$\n",
    "x_n \\to x \\in \\rho_1 <=> x_n \\to x \\in \\rho_2\n",
    "$$\n",
    "\n",
    "## Důkaz\n",
    "Ekvivalence metrik má za následek, že pro každé $\\epsilon >0$ $\\exists \\epsilon_2 >0$ takové, že:\n",
    "$$\n",
    "\\rho_2(x_n,x) < \\epsilon_2 => \\rho_1(x_n,x)<\\epsilon\n",
    "$$\n",
    "Odtud konvergence v metrice $\\rho_2$ implikuje konvergenci v metricé $\\rho_1$. Zbytek analogicky :)."
   ]
  },
  {
   "cell_type": "code",
   "execution_count": null,
   "id": "cc621606-82aa-4596-be48-8614bd6630d7",
   "metadata": {},
   "outputs": [],
   "source": []
  }
 ],
 "metadata": {
  "kernelspec": {
   "display_name": "Python 3 (ipykernel)",
   "language": "python",
   "name": "python3"
  },
  "language_info": {
   "codemirror_mode": {
    "name": "ipython",
    "version": 3
   },
   "file_extension": ".py",
   "mimetype": "text/x-python",
   "name": "python",
   "nbconvert_exporter": "python",
   "pygments_lexer": "ipython3",
   "version": "3.11.4"
  }
 },
 "nbformat": 4,
 "nbformat_minor": 5
}
