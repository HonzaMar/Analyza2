{
 "cells": [
  {
   "cell_type": "markdown",
   "id": "e2103c21-6c6e-45c0-9b65-45d651152c28",
   "metadata": {},
   "source": [
    "# Řešení rovnice se separovanými proměnnými 8.4.6\n",
    "Nechť $f: \\mathbb{R} \\to \\mathbb{R}$ je spojitá na $(a,b)\\subset \\mathbb{R}$ a $g:\\mathbb{R}\\to \\mathbb{R}$ je spojitá a nenulová na $(\\alpha,\\beta)\\subset \\mathbb{R}$. Nechť $F$ je primitivní funkce k $f$ na $(a,b)$ a $G$ je primitivní funkce k $y \\mapsto \\frac{1}{g(y)}$ na $(\\alpha,\\beta)$. Pak na intervalu $G((\\alpha,\\beta))$ existuje inverzní funkce $G^{-1}$ a každé maximální řešení $\\omega = (a,b) \\cross (\\alpha,\\beta)$ má tvar:\n",
    "\n",
    "$$\n",
    "y(x) = G^{-1}(F(x) + C),\n",
    "$$\n",
    "kde $C \\in \\mathbb{R}$ je definováno na otevřeném intervalu\n",
    "$$\n",
    "I = {x \\in(a,b): \\exists y \\in (\\alpha,\\beta) G(y) = F(x) + C}\n",
    "$$\n",
    "Navíc každým bodem $(x_0,y_0) \\subset \\Omega$ prochází právě jedno maximální řešení $(v,\\omega)$.\n",
    "\\\\\n",
    "\n",
    "*Důkaz:*\n",
    "\n",
    "Začněme tím, že $\\frac{1}{g} \\neq 0$ na $(c,d)$ a současně je zde spojitá, proto musí notně existovat na tomto intervalu i inverze. Protože $f(x)$ je spojitá na intervalu $(a,b)$, tak musí existovat primitivní funkce $F$. Dále z $G'\\neq 0$ plyne, že $G$ je ryze monotónní na $(c,d)$. Odtud potom jenom hloupej řetětec implikací:\n",
    "$$\n",
    "y' = [G^{-1}(F(x))]' = G^{-1}(F(x)) f(x) = \\frac{1}{G'(G^{-1}(F(x)))} = g(G^{-1}(F(x))) f(x) = g(y(x)) f(x)\n",
    "$$\n",
    "# No jako zbytek # TODO\n",
    "### Jednoznačnost\n",
    "Nechť $y(x),x\\inI\\subset(a,b)$, řešení $y'(x) = g(y(x))f(x)$ a $y(x_0)=y_0$:\n",
    "$$\n",
    "\\frac{y'(x)}{g(y(x))} = f(x)\n",
    "$$"
   ]
  },
  {
   "cell_type": "markdown",
   "id": "098beb44-71e8-4a89-ad12-3ee3daf40952",
   "metadata": {},
   "source": [
    "# Peanova věta 8.3.4 (Věta 4 v Dif. rovnicích)\n",
    "Mějme $F: \\mathbb{R}^{n+1} \\to \\mathbb{R}^n$ spojitou na otevřené $\\Omega \\subset \\mathbb{R}^{n+1}$ a $(x_0,y_0) \\in \\Omega$. Potom $\\exists \\delta >0$ tak, že na intervalu $(x_0 -\\delta,x_0 + \\delta)$ existuje řešení Cauchyho úlohy $y'=F(x,y) y_0 = y(x_0 )$"
   ]
  },
  {
   "cell_type": "markdown",
   "id": "ce0e469c-4ffe-4cb0-946f-cf4595df6fa7",
   "metadata": {},
   "source": [
    "# Věta 11.1.7 (Věta 3 v metrikách)\n",
    "Mějme normovaný VP $(V,||\\cdot||)$. Potom $(V,\\rho)$, kde $\\rho(x,y) =||x-y||$ je též metrický prostor."
   ]
  },
  {
   "cell_type": "markdown",
   "id": "b2ecef1d-205b-436e-ba76-47c41c752660",
   "metadata": {},
   "source": [
    "# Není ve skriptech(Věta 6 v metrikách)\n",
    "- 1. $\\emptyset,P$ jsou otevření i uzavřené v $P$\n",
    "- 2. Množiny $G_i$ pro $i \\in I$($i$ v nějakém množině) jsou všechny otevřené, potom $\\cup$_{i \\in I}(Sjednocení všech těchto množin)$G_i$ je taktéž otevřené\n",
    "- 3. $F_i$ $i\\in I$ jsou uzavřené, potom $\\cap_{i \\in I} F_i$ je taktéž uzavřené\n",
    "- 4. $G_1,...G_k$ jsou otevření pro $\\cap_{i=1} G_i$ platí, že je také otevřený\n",
    "- 5. $G_1,...G_k$ jsou uzavřené pro $\\cap_{i=1} G_i$ platí, že je také uzavřený\n",
    "\\\\\n",
    "\n",
    "## Důkazy:\n",
    "*První tvrzení*\n",
    "- Přímo z definice\n",
    "\\\\\n",
    "\n",
    "*Druhé tvrzení*\n",
    "- $x \\in \\cup_{i \\in I}G_i$ $\\exists j \\in I$ $x \\in G_j$, $G_j$ je otevřené. Potom: $\\exists r >0 \\, B(x,r)\\subset G_j => B(x,r) \\subset \\cup_{i \\in I} G_i$ \n",
    "\\\\\n",
    "\n",
    "*Čtvrté tvrzení*\n",
    "- $x \\in \\cap_{i \\in I} G_i$, $x\\in G_i$, $i \\in \\mathbb{N}$. Potom:\n",
    "$\\exists r_1,...,r_k >0$ $B(x_j,r_j) \\subset G_j \\forall j= 1,...,k$. DÁle pro $y = min${$r_1,...r_k$} platí, že $B(x,r)\\subset \\cap_{i=1}B(x,r) \\subset_{i=1}G_i$\n",
    "\\\\\n",
    "\n",
    "*Třetí a páté*\n",
    "- De morgan :)"
   ]
  },
  {
   "cell_type": "markdown",
   "id": "51fbaba8-f331-4a64-bc6e-6e352f7066de",
   "metadata": {},
   "source": [
    "# Věta 7 - TODO\n",
    "Mějme metrický prostor $(P,\\rho)$ $A\\subset P$. Pak:\n",
    "$$\n",
    "A^o = UG\n",
    "$$\n",
    "tedyd $A^o$ je maximální otevřená podmnožina $A$\n",
    "## Důkaz\n",
    "# Potřeboval bych vysvětlil bych řekl"
   ]
  },
  {
   "cell_type": "markdown",
   "id": "95345a54-e827-452d-bc6c-c29d3fdff8f1",
   "metadata": {},
   "source": [
    "# Ve skriptech nevím číslo (Věta 8)\n",
    "$A^{-} = \\cap F$ je nejmenší uzavřená nadmnožina $A$.\n",
    "\n",
    "## Důkaz\n",
    "Stejný jako ve větě 7"
   ]
  },
  {
   "cell_type": "markdown",
   "id": "59e5b06b-fd0a-4e40-a534-a56d407cfc8a",
   "metadata": {},
   "source": [
    "# Ekvivalentní metriky generují stejnou konvergenci 11.2.9 (Věta 10)\n",
    "Nechť $P$ je množina a $\\rho_1,\\rho_2$ jsou dvě ekvivalentní metriky na $P$. Potom pro každou posloupnost {$x_n$}$\\subset P$ a $x\\in P$ platí:\n",
    "$$\n",
    "x_n \\to x \\in \\rho_1 <=> x_n \\to x \\in \\rho_2\n",
    "$$\n",
    "\n",
    "## Důkaz\n",
    "Ekvivalence metrik má za následek, že pro každé $\\epsilon >0$ $\\exists \\epsilon_2 >0$ takové, že:\n",
    "$$\n",
    "\\rho_2(x_n,x) < \\epsilon_2 => \\rho_1(x_n,x)<\\epsilon\n",
    "$$\n",
    "Odtud konvergence v metrice $\\rho_2$ implikuje konvergenci v metricé $\\rho_1$. Zbytek analogicky :)."
   ]
  },
  {
   "cell_type": "markdown",
   "id": "5c05b822-db3b-4357-a68d-aa5a0366fbbe",
   "metadata": {},
   "source": [
    "# Něco o úplnosti Věta 12\n",
    "$(C([a,b]),||\\cdot||_\\infty)$ je úplný.\n",
    "## Důkaz\n",
    "Nechť {$f_n$}$\\subset C([a,b])$ je cauchyovská. Potom:\n",
    "$$\n",
    "\\forall x \\in [a,b] \\,|f_n(x)-f_m (x)| \\leq ||f_w - w||_\\infty < \\epsilon\n",
    "$$\n"
   ]
  },
  {
   "cell_type": "markdown",
   "id": "ad435e20-2838-4c4a-a45a-6b0cb8047147",
   "metadata": {},
   "source": [
    "# Věta 14 (Ve skriptách jsem to nenašel :()\n",
    "$(P,\\rho)$, $(Q,\\sigma)$ $f:P\\toQ$. Následující podmínky jsou ekvivalentní:\n",
    "\\\\\n",
    "- I $f$ je spojitá na $P$\n",
    "- II pro $G \\subset Q$ otevřenou je $f^{-1}(G)\\subset P$ taktéž otevřená\n",
    "- III pro $F \\subset Q$ uzavřenou je $f^{-1}(F)\\subset P$ uzavřená\n",
    "## Důkaz\n",
    "No, projít s někým, kdo tomu rozumí.\n"
   ]
  },
  {
   "cell_type": "markdown",
   "id": "1ecb6e6a-20c8-4f8f-8872-d39f44208950",
   "metadata": {},
   "source": [
    "# Věta 12(v začátku hustých blbostí) Weierstrasse\n",
    "- I polynomy jsou husté na $(C([a,b]),||\\cdot||_\\infty)$\n",
    "- II $(C([a,b]),||\\cdot||_\\infty)$ je separabilní \n",
    "## Důkaz\n",
    "- NEMÁME???\n"
   ]
  },
  {
   "cell_type": "markdown",
   "id": "a4d557b9-4650-4f32-8f9a-8bfcbab169fe",
   "metadata": {},
   "source": [
    "# Lindelöfova pokrývací věta(Věta 18)(11.7.2)\n",
    "Nechť $(P,\\rho)$ je metrický prostor, $A \\subset P$ je separabilní. Pak lze z každého otevřeného pokrytí množiny $A$ vybrat nejvýše spočetné podpokrytí (podsystém stále pokrávající $A$).\n",
    "\n",
    "## Důkaz\n",
    "Nechť {$M_{\\alpha}$}$_\\alpha \\in I$ je pokrytí $A$. Potom:\n",
    "$$\n",
    "\\forall x \\in A \\, \\exists \\alpha \\in I,\n",
    "$$\n",
    "tak, že $M_\\alpha$ je otevřená, $x \\in M_\\alpha$ => $\\exists m \\in \\mathbb{N} : B(x, \\frac{2}{m})\\subset M_\\alpha$. Potom $\\exists${$x_n$}$^\\infty _{}n=1$ a je spočetná hustá, {$\\overline{x_n}$}, pak k $m$ najdeme $n: \\rho(x,x_n)<\\frac{1}{m}$. Potom konečně:\n",
    "$$\n",
    "x \\in B(x_n,\\frac{1}{m}) \\subsset B(x,\\frac{2}{m}) \\subset M_\\alpha\n",
    "$$\n",
    "$$\n",
    "\\forall x \\exists m,n,\\alpha: x \\in B(x_m, \\frac{1}{m}) \\subset M_\\alpha\n",
    "$$"
   ]
  },
  {
   "cell_type": "markdown",
   "id": "f160ca03-7a6f-445e-b786-184627137472",
   "metadata": {},
   "source": [
    "# Kompaktnost implikuje omezenost a uzavřenost (Věta 20) (11.6.7)\n",
    "Nechť $(P, \\rho)$ je metrický prostor a $A\\subset P$ je kompaktní. Pak $A$ je omezená a uzavřená.\n",
    "## Důkaz\n",
    "Nejprve pro spor předpokládejme, že $A$ není omezená. Zvolme $x_0 \\in A$, pak díky neomezenosti musí existovat {$x_n$}$\\subset A$ tak, že $\\rho (x_n,x_0)>n$ pro každé $n\\in \\mathbb{N}$. Díky kompaktnosti $A$ můžeme předpokládat, že $x_n \\to y$. Díky spojitosti metriky celkově máme:\n",
    "$$\n",
    "\\infty \\leftarrow \\rho(x_m,x_0) \\to \\rho(y,x_0)<\\infty,\n",
    "$$\n",
    "v čemž je spor.\n",
    "\\\\\n",
    "\n",
    "Nyní dokažme uzavřenost pomocí Věty o charakterizaci uzavřenosti pomocí posloupností (Věta 11.3.26). Nechť {$x_n$}$\\subset A$ a $x_n \\to x \\subset P$. Díky kompaktnosti existuje podposloupnost {$x_{n_k}$}$\\subset${$x_n$} taková, že $x_{n_k}\\to y \\in A$. Nutně potom $x=y$, a proto $x\\in A$"
   ]
  },
  {
   "cell_type": "markdown",
   "id": "81dbcb5a-ddbc-4742-9d58-3d580a4bf468",
   "metadata": {},
   "source": [
    "# Implikace kompaktností (Věta 21)\n",
    "- I) Pokud $K \\subset (P,\\rho)$ je kompaktní, pak je též uzavřená\n",
    "- II) Pakliže $(P,\\rho)$ je kompaktní, pak i každá $A \\subset P$ je kompaktní a též i uzavřená.\n",
    "## Důkaz\n",
    "- I) Nejprve dokažme první tvrzení. Mějme {$x_n$}$\\subset K \\to x$, chceme $x \\in K$. $K$ je kompaktní => $\\exists${$x_n ^k$} je konvergentní v $K$, ale ta musí konvergovat též k $x$\n",
    "- II) Implikace směrem doprava plyne z prvního důkazu. Zpětná implikace. Nechť $K$ je uzavřená, {$x_k$} posla z $K \\subset P$. Potom:\n",
    "$$\n",
    "\\exists x_{n_k} \\to x \\subset P\n",
    "$$\n",
    "$K$ je uzavřená => $x \\subset K$"
   ]
  },
  {
   "cell_type": "markdown",
   "id": "813781d2-7a8b-4d7a-9e33-5d26454a6ddd",
   "metadata": {},
   "source": [
    "# Věta 22"
   ]
  },
  {
   "cell_type": "markdown",
   "id": "21c84fae-505e-4173-9e57-84bf9a32349b",
   "metadata": {},
   "source": [
    "# Věta 23"
   ]
  },
  {
   "cell_type": "markdown",
   "id": "3367e94c-1465-4385-a380-0e739f6e0541",
   "metadata": {},
   "source": [
    "# Cantorova věta o stejnoměrné spojistosti (Věta 25) (11.9.12)\n",
    "Nechť $(P_1,\\rho_1)$,$(P_2,\\rho_2)$ jsou metrické prostory, $\\phi : P_1 \\to P_2$ je spojité na $A \\subset P_1$ a $A$ je kompaktní. Pak $\\phi$ stejnoměrně spojité na $A$.\n",
    "$$\n",
    "\\forall \\epsilon >0 \\, \\exists \\delta >0 \\, x,y \\in A \\land \\rho_1 (x,y)< \\delta\n",
    "=> \\rho_2 (\\phi(x),\\phi(y)) < \\epsilon).\n",
    "$$\n",
    "## Důkaz\n",
    "\n",
    "Nějak sporem, probrat\n"
   ]
  },
  {
   "cell_type": "markdown",
   "id": "01797e97-f5d0-416f-b832-5048ea6e32d9",
   "metadata": {},
   "source": [
    "# Věta 26"
   ]
  }
 ],
 "metadata": {
  "kernelspec": {
   "display_name": "Python 3 (ipykernel)",
   "language": "python",
   "name": "python3"
  },
  "language_info": {
   "codemirror_mode": {
    "name": "ipython",
    "version": 3
   },
   "file_extension": ".py",
   "mimetype": "text/x-python",
   "name": "python",
   "nbconvert_exporter": "python",
   "pygments_lexer": "ipython3",
   "version": "3.11.4"
  }
 },
 "nbformat": 4,
 "nbformat_minor": 5
}
