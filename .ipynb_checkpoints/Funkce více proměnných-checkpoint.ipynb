{
 "cells": [
  {
   "cell_type": "markdown",
   "id": "a3808773-e8d4-4bd7-96dc-045204b0483b",
   "metadata": {},
   "source": [
    "# O vlastnostech plynoucích z existence totálního diferenciálu (Věta )(12.1.12)\n",
    "Nechť $f: \\mathbb{R}^N \\to \\mathbb{R}$ má totální diferenciál v bodě $a \\in \\mathbb{R}^N$. Pak:\n",
    "- I) v bodě $a$ existují všechny parciální derivace a platí $df(a) = \\nabla f(a)$(přesněji $df(a)(h) = \\nabla f(a) \\cdot h$ pro všechna $h \\in \\mathbb{R}^N$)\n",
    "- II) existují derivace ve všech směrech a platí pro ně $\\frac{\\partial f}{\\partial v}=\\nabla f(a) \\cdot v$\n",
    "- III) funkce $f$ je spojitá v bodě $a$\n",
    "## Důkaz\n",
    "\n",
    "### TODO"
   ]
  },
  {
   "cell_type": "markdown",
   "id": "0860ed95-3de8-4186-b396-79707f05fdad",
   "metadata": {},
   "source": [
    "# O postačující podmínce pro existenci totálního diferenciálu (Věta )()\n",
    "Nechť $f:\\mathbb{R}^N \\to \\mathbb{R}$ a $a \\in \\mathbb{R}^N$.\n",
    "- I) Má-li $f$ na jistém okolí bodu $a$ omezené parciální derivace, pak je v  něm spojitá\n",
    "- II) Má-li $f$ na jistém okolí bodu $a$ parciální derivace a ty jsou spojité v bodě $a$, pak v něm má totální diferenciál\n",
    "## Důkaz\n",
    "### TODO"
   ]
  },
  {
   "cell_type": "markdown",
   "id": "4aca2919-94aa-42ea-97b5-247af526c2ca",
   "metadata": {},
   "source": [
    "# Aritmetika totálního diferenciálu (Věta 5)(12.1.16)\n",
    "Nechť $f,g : \\mathbb{R}^N \\to \\mathbb{R}$,$a \\in \\mathbb{R}^N$ a existují totální diferenciály $df(a)$ a $dg(a)$. Pak\n",
    "- I) $d(f+g)(a)=df(a)+dg(a)$\n",
    "- II) $d(fg)(a) = g(a)df(a) + f(a)dg(a)$\n",
    "- III) Pokud navíc $g(a)\\neq 0$, pak $d\\frac{f}{g}(a) = \\frac{g(a)df(a)-f(a)dg(a)}{g^2(a)}$\n",
    "## Důkaz\n",
    "- I) $f(a+h) = f(a) + df(a)(h) + o(||h||_2)$, $g(a+h)=g(a)+Dg(a)(h)+o)+(||h||_2)$, jejich součet:\n",
    "$$\n",
    "(f+g)(a+h) = (f+g)(a) + D(f+g)(a)(h) + o(||h||_2)\n",
    "$$\n",
    "Odsud vidím, že když to sečtu, tak to sedí, no. Ez\n",
    "- II) $f(fg)(a+h) = fg(a)+Dfg(a)(h)+o(||h||_2)$, $f(a+h) = f(a) + df(a)(h) + o(||h||_2)$, $g(a+h)=g(a)+Dg(a)(h)+o)+(||h||_2)$.\n",
    "$$\n",
    "f(a+h)g(a+h) = f(a)g(a) +f(a)Dg(a)(h)+g(a)Df(a)(h) + Df(a)(h)Dg(a)(h) + o(||h||_2) + o(||h||_2)\n",
    "$$\n",
    "Dvojitý totální diferenciál je znovu velké O.\n",
    "## III) DODĚLAT"
   ]
  },
  {
   "cell_type": "markdown",
   "id": "57572836-9eaa-42c5-9315-ba6b75d9dad7",
   "metadata": {},
   "source": [
    "# O totálním diferenciálu složeného zobrazení (Věta)()\n",
    "Mějme $f: \\Omega \\to \\mathbb{R}^m$, $U \\in \\mathbb{k}$, $\\phi: U \\to \\Omega$ a $\\phi$ má totální diferenciál v $a \\in U$, $f$ má TD v $b = \\phi(a)$. Pak $f \\circ \\phi$ má TD v $a$ a platí:\n",
    "$$\n",
    "D(f \\circ \\phi) (a) = D(f(a))D\\pi(a)\n",
    "$$"
   ]
  },
  {
   "cell_type": "markdown",
   "id": "98e787c9-5549-4d74-baca-8dfa103663fe",
   "metadata": {},
   "source": [
    "# Řetízkové pravidlo (Věta )()"
   ]
  },
  {
   "cell_type": "markdown",
   "id": "fb608319-ada6-477f-9e61-aac4972472f5",
   "metadata": {},
   "source": [
    "# "
   ]
  },
  {
   "cell_type": "markdown",
   "id": "8da6eafa-6ebe-4f96-868a-d46ad322a4ba",
   "metadata": {},
   "source": [
    "# "
   ]
  },
  {
   "cell_type": "markdown",
   "id": "2da6ed11-303a-4d39-bfde-f048eadbde12",
   "metadata": {},
   "source": [
    "# "
   ]
  }
 ],
 "metadata": {
  "kernelspec": {
   "display_name": "Python 3 (ipykernel)",
   "language": "python",
   "name": "python3"
  },
  "language_info": {
   "codemirror_mode": {
    "name": "ipython",
    "version": 3
   },
   "file_extension": ".py",
   "mimetype": "text/x-python",
   "name": "python",
   "nbconvert_exporter": "python",
   "pygments_lexer": "ipython3",
   "version": "3.11.4"
  }
 },
 "nbformat": 4,
 "nbformat_minor": 5
}
