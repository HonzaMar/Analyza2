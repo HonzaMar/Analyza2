{
 "cells": [
  {
   "cell_type": "markdown",
   "id": "454efc47-9f52-4719-a479-f6071dead2c1",
   "metadata": {},
   "source": [
    "# Řady"
   ]
  },
  {
   "cell_type": "markdown",
   "id": "7ee21c65-b833-47a5-9512-bfbcf22dfacb",
   "metadata": {},
   "source": [
    "# Řada (Def 1)(9.1.1)\n",
    "Nechť {$a_k$}$\\subset  \\mathbb{R}$ je posloupnost. Symbol $\\sum_{k=1}^\\infty a_k$ budeme označovat číselnou řadu. Pro $k \\in \\mathbb{N}$ se číslo $a_k$ nazývá k-tý člen, číslo $s_n = \\sum_{k=1}^n a_k$ se nazývá n-tý částečný součet a {$s_n$} nazveme posloupností částečných součtů řady $\\sum_{k=1}^\\infty a_k$.\n",
    "## Random poznámka bráni\n",
    "Pokud $\\lim_{n \\to \\infty} S_n$ $\\exists$ a je vlastní, tak řada konverguje. Pokud $\\exists$ a je nevlastní, pak diverguje. Pakliže neplatí žádná z možností, pak nutně osciluje."
   ]
  },
  {
   "cell_type": "markdown",
   "id": "6c2a1f69-273b-4728-9089-9924f1286eec",
   "metadata": {},
   "source": [
    "# Absolutní konvergence (Def 11)(9.1.15)\n",
    "Říkáme, že číselná řada $\\sum_{k=1}^\\infty a_k$ konverguje absolutně, jestliže konverguje $\\sum_{k=1}^\\infty |a_k|$. Říkáme, že řada $\\sum_{k=1}^\\infty a_k$ konverguje neabsolutně, jestliže konverguje $\\sum_{k=1}^\\infty a_k$, ale nekonverguje $\\sum_{k=1}^\\infty |a_k|$"
   ]
  },
  {
   "cell_type": "markdown",
   "id": "112e5a0e-4d37-44c3-ba3f-00b6082a52cb",
   "metadata": {},
   "source": [
    " "
   ]
  },
  {
   "cell_type": "markdown",
   "id": "182b4125-7ae3-4f0f-a2be-aebad8ec1b78",
   "metadata": {},
   "source": [
    "# Přerovnávání řady (Def 14) (9.4.1)\n",
    "Nechť {$a_k$}$\\subset \\mathbb{R}$ a $\\phi : \\mathbb{N} \\to \\mathbb{N}$ je bijekce. Pak řadu $\\sum_{k=1}^\\infty a_{\\phi(a_k)}$ nazveme přerovnáváním řady $\\sum_{k=1}^\\infty a_k$.  "
   ]
  },
  {
   "cell_type": "markdown",
   "id": "22d3c236-8b6a-4be4-aca8-ae05cab1dc27",
   "metadata": {},
   "source": [
    "# Kladná a záporná část (9.4.2)(bonusováý definice)\n",
    "Nechť $x\\in \\mathbb{R}$. Kladnou část čísla $x$ definujeme jako $x^+ = \\max${x,0} a zápornou část jako $x^- = \\max${-x,0}."
   ]
  },
  {
   "cell_type": "markdown",
   "id": "e0d88587-3dd9-4018-a546-5f7c2db6ab60",
   "metadata": {},
   "source": [
    "# Cauchyho součin (Def)(9.4.12)\n",
    "Mějme dvě číselné posloupnosti {$a_n$}$_{n=1}^\\infty$, {$b_n$}$_{n=1}^\\infty$ tak, že $\\sum_{n=1}^\\infty a_n$, $\\sum_{n=1}^\\infty b_n$ konverguje absolutně. Potom $\\sum_{i,j=1}^\\infty a_i b_j$ je Cauchyho součin."
   ]
  },
  {
   "cell_type": "markdown",
   "id": "8e55ab48-331a-4a95-b238-a19cd571e96b",
   "metadata": {},
   "source": [
    "# Mocninná řada (Def bez čísla)(10.1.1)\n",
    "Nechť {$a_n$}$\\subset \\mathbb{C}$ a $z_0 \\in \\mathbb{C}$. Pak řadu\n",
    "$$\n",
    "\\sum_{k=0}^\\infty a_k(z-z_0)^k\n",
    "$$\n",
    "nazáváme mocninnou řadou se středem $z_0$. Čísla $a_k$ nazýváme koeficienty mocninné řády."
   ]
  },
  {
   "cell_type": "markdown",
   "id": "9b5478f6-2aed-47a3-95dd-407292e1a7ee",
   "metadata": {},
   "source": []
  },
  {
   "cell_type": "markdown",
   "id": "559021e7-bb33-4240-96c9-fe3b82ee5af4",
   "metadata": {},
   "source": [
    "# "
   ]
  },
  {
   "cell_type": "markdown",
   "id": "7b271405-85e1-4631-8576-6131a6654b09",
   "metadata": {},
   "source": [
    "# Difky"
   ]
  },
  {
   "cell_type": "markdown",
   "id": "2de10cc5-cc46-454c-b6c8-fa976bd08fea",
   "metadata": {},
   "source": [
    "# Definice obyčejné diferenciální rovnice 8.2.1 (Def 1')\n",
    "Nechť $n \\in \\mathbb{N}$ a $f:\\mathbb{R}^{n+2} \\to \\mathbb{R}$. Pak\n",
    "\\begin{equation}\n",
    "f(x,y,y',...y^{n}) = 0,\n",
    "\\end{equation}\n",
    "se nazývá skalární obyčejnou diferenciální rovnicí n-tého řádu."
   ]
  },
  {
   "cell_type": "markdown",
   "id": "43cc68fd-2414-4fcc-b96c-986f414be06f",
   "metadata": {},
   "source": [
    "# Řešení obyčejné diferenciální rovnice 8.2.3  - optional, u Duška je\n",
    "Funkci $y:(a,b) \\to \\mathbb{R}$ nazveme řešením obyčejné diferenciální rovnice, pakliže:\n",
    "\n",
    "- $y$ má na $(a,b)$ vlastní derivace n-tého řádu.\n",
    "- pro všechna $x \\in (a,b)$ platí diferenciální rovnice.\n",
    "\n",
    "Trikově můžeme každou diferenciální rovnici přepsat do tvaru rozřešeného vzhledem k nevyšší derivaci:\n",
    "\n",
    "$$\n",
    "y^{(n)} = g(x,y,y',...,y^{(n-1)})\n",
    "$$\n"
   ]
  },
  {
   "cell_type": "markdown",
   "id": "730720d6-d8b7-458c-8a7a-d6851f20b15b",
   "metadata": {},
   "source": [
    "# Prodloužení řešení ODR 8.3.3 (Def 2)\n",
    "Nechť $y_1$ řeší rovnici $y' = F(x,y)$ na intervalu $(a_1,b_1)$ a $y_2$ řeší rovnici na $(a_2,b_2)$. Jestliže $(a_1,b_1) \\subset (a_2,b_2)$ a $y_1 = y_2$ na $(a_1,b_1)$, pak řekneme, že $y_2$ je prodloužením řešení $y_1$ na interval $(a_2,b_2)$. Řešení nazveme maximálním právě tehdy, když jej nemůžeme dále rozšiřovat. "
   ]
  },
  {
   "cell_type": "markdown",
   "id": "63806e62-f498-42a7-832a-30b5826966b0",
   "metadata": {},
   "source": [
    "# Limita funkce (8.1.2)\n",
    "Nechť $f: \\mathbb{R}^N \\to \\mathbb{R}$, $x_0 \\in \\mathbb{R}^N$ je hromadným bodem $D_f$ a $y_0 \\in \\mathbb{R}$. Řekneme, že zobrazení $f$ má v bodě $x_0$ limitu $y_0$, jestliže:\n",
    "$$\n",
    "\\forall \\epsilon > 0 \\exists \\delta >0 \\, \\, \\, x\\in P_{\\delta}(x_0) \\cap D_f => f(x) \\in U_\\epsilon (y_0)\n",
    "$$\n",
    "Právě tehdy můžeme psát klasickou limitu, a sice $\\lim_{x \\to x_0}f(x) = y_0$.\n"
   ]
  },
  {
   "cell_type": "markdown",
   "id": "8d91634e-c05a-4a46-a74c-559a6ce163f4",
   "metadata": {},
   "source": [
    "# Spojitost funkce 8.1.3\n",
    "Nechť $f:\\mathbb{R}^N \\to \\mathbb{R}$ a $x_0 \\in D_f$. Řekneme, že zobrazení $f$ je v bodě $x_0$ spojité, jestliže:\n",
    "$$\n",
    "\\forall \\epsilon >0 \\exists \\delta >0 \\, \\, x\\in U_\\delta (x_0) \\cap D_f => f(x) \\in U_\\epsilon (f(x_0))\n",
    "$$"
   ]
  },
  {
   "cell_type": "markdown",
   "id": "060846cb-ac93-436e-9a4a-06301dd9f3aa",
   "metadata": {},
   "source": [
    "# Systém ODR 8.2.4\n",
    "Nechť $F: \\mathbb{R}^{m+1} \\to \\mathbb{m}$. Pak:\n",
    "$$\n",
    "y' = F(x,y)\n",
    "$$\n",
    "\n",
    "je systém obyčejných diferenciálních rovnice prvního řádu (rozřešený vzhledem k první derivaci) pro $m$ neznámých funkcíc $y_1,...,y_m$. Jeho řešením na $(a,b)$ nazveme $y = (y_1,...,y_m):(a,b)\\to\\mathbb{R}^m$ splňující:\n",
    "- $y_1,...,y_m$ mají na $(a,b)$ vlastní derivace \n",
    "- pro všechna $x\\in (a,b)$ platí $y'(x) = F(x,y(x))$"
   ]
  },
  {
   "cell_type": "markdown",
   "id": "238460a2-a219-4d23-ba31-889a05806a94",
   "metadata": {},
   "source": [
    "# Cauchyho úloha 8.3.1\n",
    "Cauchyovou úlohou pro rovnici $y' = F(x,y)$ na $(a,b)$, kde $F: \\mathbb{R}^{n+1} \\to \\mathbb{R}$, rozumíme hledání vektorové funkce $y: \\mathbb{R} \\to \\mathbb{R}^n$ splňující $y'(x) = F(x,y(x))$ na $(a,b)$ a $y(x_0) = y_0$, kde $x_0 \\in (a,b)$ a $y_0 \\in \\mathbb{R}^n$ jsou zadaná hodnoty, které přirozeně patří do definičního oboru $F$."
   ]
  },
  {
   "cell_type": "markdown",
   "id": "26f1cb56-a7bd-42fa-a973-286dbf572e8e",
   "metadata": {},
   "source": [
    "# Lokální lipschitzovskost (Def 5)(8.3.7)\n",
    "Lokální lipschitzovskost vzhledem k poslední n-tici proměnných znamená, že pro každé $(x_0,y_0)\\in \\Omega$ existují $K>0$ a $\\delta >0$ taková, že:\n",
    "$$\n",
    "|F(x,y_1) - F(x,y_2)| \\leq K |y_1 - y_2| \\text{kdykoliv} (x,y_1),(x,y_2) \\in U_\\delta ((x_0,y_0))\n",
    "$$"
   ]
  },
  {
   "cell_type": "markdown",
   "id": "d4f798d2-9d62-4748-af09-9209348ea098",
   "metadata": {},
   "source": [
    "# Wronskián (Def 10)(8.5.6)\n",
    "Wronského determinant (častěji zkráceně wronskián) funkcí $u_1,\\dots,u_n \\in C^{(n-1)}((a,b))$ v bodě $x \\in (a,b)$ je:\n",
    "$$\n",
    "W_{[u_1,u_2,\\dots,u_n]}(x) = det\\begin{bmatrix}\n",
    "u_1(x) & u_2(x) & \\dots & u_n(x) \\\\\n",
    "u_1(x)' & u_2(x)' & \\dots & u_n'(x) \\\\\n",
    "\\vdots & \\vdots & \\ddots & \\vdots \\\\\n",
    "u_1^{(n-1)}(x) & u_2^{(n-1)}(x) & \\dots & u_n^{(n-1)}(x) \n",
    "\\end{bmatrix}  \n",
    "$$"
   ]
  },
  {
   "cell_type": "markdown",
   "id": "e0bdaccb-d60c-43cc-8ea6-bc67d4d325a1",
   "metadata": {},
   "source": []
  },
  {
   "cell_type": "markdown",
   "id": "ef03b131-43f0-48c6-9229-ec44b6def6ef",
   "metadata": {},
   "source": [
    "# Metrické věci"
   ]
  },
  {
   "cell_type": "markdown",
   "id": "13d747d7-bbc7-432b-969e-ae86dcd300e9",
   "metadata": {},
   "source": [
    "# Metrika a metrický prostor 11.1.1. (Def 1)\n",
    "## Metrika\n",
    "Mějme zobrazení $\\rho: p \\times p \\to [0,\\infty)$. Toto zobrazení nazýváme metrikou právě tehdy, když:\n",
    "- 1. $\\rho(x,y) \\geq 0 \\, \\forall x,y$ a $\\rho(x,y) = 0 <=> x=y$\n",
    "- 2. $\\rho(x,y) = \\rho(y,x)$\n",
    "- 3. $\\rho(x,z) \\leq \\rho(x,y)+\\rho$\n",
    "## Metrický prostor\n",
    "Množina, na níž je definovaná nějaká metrika $\\rho$. Značí se $(P,\\rho)$\n"
   ]
  },
  {
   "cell_type": "markdown",
   "id": "af6bd527-f857-4558-b000-8a2dfe97ad1b",
   "metadata": {},
   "source": [
    "# Norma a normovaný prostor 11.1.5 (Def 2)\n",
    "Mějme V - vektorový prostor nad $\\mathbb{R}$. Potom $||\\cdot||: V \\to [0,\\infty)$ nazveme normou právě tehdy, když $\\forall u,v$ a $\\lambda \\in \\mathbb{R}$ platí:\n",
    "- 1. $||u||\\geq 0$\n",
    "- 2. $||\\lambda u||$ = $|\\lambda|$ $||u||$\n",
    "- 3. $||u+v|| \\leq ||u||+||v||$\n",
    "\n",
    "Každý takovýto prostor nazýváme $V$ nazýváme normovaným lineárním prostorem."
   ]
  },
  {
   "cell_type": "markdown",
   "id": "02bbef48-86a8-4b01-a9f1-e2ee3758af17",
   "metadata": {},
   "source": [
    "# Otevřená koule (V skriptách není (Def 4))\n",
    "Mějme metrický prostor $(P,\\rho)$, $x \\in P$, $r>0$, pak množinu $B_\\rho = ${$y \\in P,\\rho(x,y)<r$} nazveme otevřenou koulí se středem $x$ a poloměrem $r$. Pokud bude metrika $\\rho$ jasná z kontextu, pak píšeme pouze $B(x,r)$"
   ]
  },
  {
   "cell_type": "markdown",
   "id": "f434b894-ac5f-4dbd-8d37-183d017153c9",
   "metadata": {},
   "source": [
    "# Základní srandy s metrickým prostorem (Def 5)(11.3.13)\n",
    "- 1. Množina $A \\in P$ je otevřená právě tehdy, když $\\forall x  \\in A, \\exists r >0: B(x,r)\\subset A$\n",
    "- 2. Množina $A$ je uzavřená právě tehdy, když $P$ bez $A$ je otevřená\n",
    "- 3. Vnitřek množiny $A \\subset P$ je $A^o =${$x \\in A,\\exists r >0,B(x,r)\\subset A$}\n",
    "- 4. Uzávěr množiny $A \\subset P$ je definován jako $A^{-} = ${$x \\in P,\\forall x>0,B(x,r) \\cap A \\neq 0$}\n",
    "- 5. Hranice množiny $A \\subset P$ definujeme jako $jA = A^{-} \\cap (P \\setminus A)$"
   ]
  },
  {
   "cell_type": "markdown",
   "id": "63b21fe2-370e-4767-9c2c-0634a9b24479",
   "metadata": {},
   "source": [
    "# KOnvergence v metrickém prostoru (Def 8)(11.2.1)\n",
    "Nechť $(P,\\rho)$ je metrický prostor a {$x_n$} $\\subset P$ je posloupnost v něm. Řekneme, že $x_n$ konverguje k $x \\in P$ pro $n \\to \\infty$ právě tehdy, když $\\rho (x,x_n) \\to 0$. Tehdy píšeme, že $x_n \\to x$\n"
   ]
  },
  {
   "cell_type": "markdown",
   "id": "c0f7a599-15df-4b91-9048-eed5f569ca47",
   "metadata": {},
   "source": [
    "# Ekvivalentní normy a metriky (Def 9)(11.2.6)\n",
    "Nechť $(P,\\rho_1),(P,\\rho_2)$ jsou metrické prostory. Řekneme, že $\\rho_1$ a $\\rho_2$ jsou ekvivalentní právě tehdy, když $\\forall x,y \\in P$:\n",
    "$$\n",
    "c \\rho_1(x,y) \\leq \\rho_2(x,y) \\leq c\\rho_2(x,y)\n",
    "$$\n",
    "Atejné tvrzení platí i pro normy."
   ]
  },
  {
   "cell_type": "markdown",
   "id": "527d28ae-a01a-43cc-840a-b1fcd6af0741",
   "metadata": {},
   "source": [
    "# Cauchyovská posloupnost (Definice 11) (11.5.1)\n",
    "Nechť $(P,\\rho)$ je metrický prostor. Řekneme, že posloupnost {$x_n$}$\\subset P$ je cauchyovská v metrickém prostoru $(P,\\rho)$, pokud:\n",
    "$$\n",
    "\\forall \\epsilon >0 \\exists n_0 \\in \\mathbb{N} \\, m,n > n_0 => \\rho(x_m,x_n)<\\epsilon\n",
    "$$"
   ]
  },
  {
   "cell_type": "markdown",
   "id": "d23d18ab-05d9-4afd-93d0-98124f0273db",
   "metadata": {},
   "source": [
    "# Úplný metrický prostor (Definice 11)(11.5.2)\n",
    "O metrickém prostoru $(P,\\rho)$ řekneme, že je úplný, pakliže každá cauchyovská posloupnost jeho prvků v něm konverguje.\n",
    "## Bráňovi tipy a triky k tomuhle:\n",
    "- Každá konvergentní posloupnost je vždy Cauchyovská\n",
    "- Cauchyovská je konvergentní jen v úplném prostoru\n",
    "- Ekvivalentní metriky/normy mají vždy stejné konvergentní a stejné Cauchyovské posloupnosti\n",
    "- Ekvivalenstní metriky/normy jsou buď obě úplné, anebo obě neúplné "
   ]
  },
  {
   "cell_type": "markdown",
   "id": "961bff5f-d905-43f3-b561-2cbfa586d004",
   "metadata": {},
   "source": [
    "# Stejnoměrná konvergence (Ve skriptech není)\n",
    "Uvažujme $C([a,b])$ se supremovou metrikou:\n",
    "$$\n",
    "||f||_\\infty = \\sup_{t\\in [a,b]} |f(t)| = \\max_{t\\in[a,b]} |f(t)|\n",
    "$$\n",
    "Řekneme, že $f_n \\in C([a,b])$ stejnoměrně konverguje k $f\\in C([a,b])$, jestliže:\n",
    "$$\n",
    "\\forall \\epsilon >0 \\exists w_0 \\in \\mathbb{N} \\forall w \\geq w_0 \\, \\max|f_n(t)-f(t)| < \\epsilon\n",
    "$$"
   ]
  },
  {
   "cell_type": "markdown",
   "id": "50790bef-ee13-4256-9b03-c9991dbd64f2",
   "metadata": {},
   "source": [
    "# Vlastnosti exponenciály - nevim, jestli to má vůbec smysl psát, asi ne.\n"
   ]
  },
  {
   "cell_type": "markdown",
   "id": "40b35979-0c5f-4da9-97b6-4fe2601ed8f2",
   "metadata": {},
   "source": []
  },
  {
   "cell_type": "markdown",
   "id": "65a903f7-e0e7-4512-b62c-22948a0f15da",
   "metadata": {},
   "source": []
  },
  {
   "cell_type": "markdown",
   "id": "4f94b46d-0688-42d4-8f6c-32db29852724",
   "metadata": {},
   "source": []
  },
  {
   "cell_type": "markdown",
   "id": "ef9763d9-2ad8-466f-a0fe-3ff8881fb737",
   "metadata": {},
   "source": [
    "# Funkce více proměnných/metriky"
   ]
  },
  {
   "cell_type": "markdown",
   "id": "de71fa76-5eb9-4f6f-94bc-5a3a47666c27",
   "metadata": {},
   "source": [
    "# Limita funkce a spojitost v metrickém prostoru (Definice 13) (11.9.1)(11.9.3)\n",
    "I) Řekneme, že $f$ má v bodě $a\\in P$ limitu $A \\in Q$, pokud:\n",
    "$$\n",
    "a \\in D_f\n",
    "$$\n",
    "$$\n",
    "\\forall \\epsilon >0 \\, \\exists \\delta >0 \\, \\forall x \\in D_f : \\, 0<\\rho(x,a)<\\delta => \\sigma(f(x),A)<\\epsilon\n",
    "$$\n",
    "píšeme $\\lim_{x\\to a}f(x) = A$\n",
    "\\\\\n",
    "\n",
    "II) Řekneme, že $f$ je spojitá v $a \\in D_f$, jestliže:\n",
    "$$\n",
    "\\lim_{x \\to a}f(x) = f(a)\n",
    "$$\n",
    "\\\\\n",
    "\n",
    "III) $f$ je spojitá na $M \\subset D_f$, když je spojitá v $\\forall x \\in M$.\n"
   ]
  },
  {
   "cell_type": "markdown",
   "id": "01dc53ea-2807-488c-963f-9d4f4d9be502",
   "metadata": {},
   "source": []
  },
  {
   "cell_type": "markdown",
   "id": "4bdb67ca-b53b-442c-8c79-c44daa05575b",
   "metadata": {},
   "source": []
  },
  {
   "cell_type": "markdown",
   "id": "8733e969-e733-4b10-b24e-8089e7a916bc",
   "metadata": {},
   "source": []
  },
  {
   "cell_type": "markdown",
   "id": "963ddf02-f146-4ad4-a0a9-784fb52de8a9",
   "metadata": {},
   "source": [
    "# Hustá podmnožina (Def 15) (11.4.1)\n",
    "$A \\subset (P,\\rho)$ je hustá v $P,\\rho$, jestližev každém okolí každého prvku z $P$ leží nějaký prvek $A$.\n"
   ]
  },
  {
   "cell_type": "markdown",
   "id": "77b1d869-902e-49aa-a80b-b5e1eee21aa5",
   "metadata": {},
   "source": [
    "# Pokrytí množiny a otevřené pokrytí(Def 17) (11.7.1)\n",
    "Mějme $(P,\\rho)$ metrický prostor, $A\\subset P$, $I$ je indexová množina a {$M_\\alpha$}$_{\\alpha \\in I}$ je systém podmnožin $P$. Řekneme, že {$M_\\alpha$} je pokrytí $A$, jestliže $A \\subset \\bigcup_{\\alpha \\in I}M_\\alpha$. Jsou-li všechny množiny v systému {$M_\\alpha$} otevřené, hovoříme o otevřeném pokrytí"
   ]
  },
  {
   "cell_type": "markdown",
   "id": "3b859f54-cb9a-47ab-b065-51fcd72dfa89",
   "metadata": {},
   "source": [
    "# Kompaktní množina (def 19)(11.6.1)\n",
    "Nechť $(P,\\rho)$ je metrická prostor a $A\\subset P$. Pak řekneme, že  $A$ je kompaktní, jestliže z každé posloupnosti jejich prvků lze vybrat podposloupnost konvergentní v $A$. Zároveň množina $K\\subset P$ je kompaktní, pokude je $(K,\\rho)$ kompaktní.\n"
   ]
  },
  {
   "cell_type": "markdown",
   "id": "b13222a3-5bca-4683-b962-41ba88fa9465",
   "metadata": {},
   "source": [
    "# Stejnoměrně spojitá (Definice 24)\n",
    "$f:(P,\\rho)\\to (Q,\\sigma)$ nazveme stejnovměrně spojitou, pokud:\n",
    "$$\n",
    "\\forall \\epsilon > 0 \\, \\exists \\delta >0 \\, \\forall x,y \\in P \\, \\rho(x,y)< \\delta => \\sigma(f(x),g(y))< \\epsilon\n",
    "$$\n",
    "Stejnoměrná spojitost => budoucí spojitost\n"
   ]
  },
  {
   "cell_type": "markdown",
   "id": "7515e92a-2cc8-4e2b-b263-cb59e5fb1b99",
   "metadata": {},
   "source": [
    "# Banachův a Hilbertův prostor (Def 29)(11.5.5)\n",
    "Úplnému normovanému prostoru říkáme Banachův prostor. Úplnému prostoru se skalárním součinem říkáme Hilbertův prostor. (Úplnost samozřejmě bereme vůči metrice vzniklé z uvedené normy respektive skalárního součinu.)"
   ]
  }
 ],
 "metadata": {
  "kernelspec": {
   "display_name": "Python 3 (ipykernel)",
   "language": "python",
   "name": "python3"
  },
  "language_info": {
   "codemirror_mode": {
    "name": "ipython",
    "version": 3
   },
   "file_extension": ".py",
   "mimetype": "text/x-python",
   "name": "python",
   "nbconvert_exporter": "python",
   "pygments_lexer": "ipython3",
   "version": "3.11.4"
  }
 },
 "nbformat": 4,
 "nbformat_minor": 5
}
