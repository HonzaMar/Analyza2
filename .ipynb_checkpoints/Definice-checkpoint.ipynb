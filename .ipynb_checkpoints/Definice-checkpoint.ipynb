{
 "cells": [
  {
   "cell_type": "markdown",
   "id": "454efc47-9f52-4719-a479-f6071dead2c1",
   "metadata": {},
   "source": [
    "# Řady"
   ]
  },
  {
   "cell_type": "markdown",
   "id": "7ee21c65-b833-47a5-9512-bfbcf22dfacb",
   "metadata": {},
   "source": [
    "# Řada (Def 1)(9.1.1)\n",
    "Nechť {$a_k$}$\\subset  \\mathbb{R}$ je posloupnost. Symbol $\\sum_{k=1}^\\infty a_k$ budeme označovat číselnou řadu. Pro $k \\in \\mathbb{N}$ se číslo $a_k$ nazývá k-tý člen, číslo $s_n = \\sum_{k=1}^n a_k$ se nazývá n-tý částečný součet a {$s_n$} nazveme posloupností částečných součtů řady $\\sum_{k=1}^\\infty a_k$.\n",
    "## Random poznámka bráni\n",
    "Pokud $\\lim_{n \\to \\infty} S_n$ $\\exists$ a je vlastní, tak řada konverguje. Pokud $\\exists$ a je nevlastní, pak diverguje. Pakliže neplatí žádná z možností, pak nutně osciluje."
   ]
  },
  {
   "cell_type": "markdown",
   "id": "6c2a1f69-273b-4728-9089-9924f1286eec",
   "metadata": {},
   "source": [
    "# Absolutní konvergence (Def 11)(9.1.15)\n",
    "Říkáme, že číselná řada $\\sum_{k=1}^\\infty a_k$ konverguje absolutně, jestliže konverguje $\\sum_{k=1}^\\infty |a_k|$. Říkáme, že řada $\\sum_{k=1}^\\infty a_k$ konverguje neabsolutně, jestliže konverguje $\\sum_{k=1}^\\infty a_k$, ale nekonverguje $\\sum_{k=1}^\\infty |a_k|$"
   ]
  },
  {
   "cell_type": "markdown",
   "id": "112e5a0e-4d37-44c3-ba3f-00b6082a52cb",
   "metadata": {},
   "source": [
    " "
   ]
  },
  {
   "cell_type": "markdown",
   "id": "182b4125-7ae3-4f0f-a2be-aebad8ec1b78",
   "metadata": {},
   "source": [
    "# Přerovnávání řady (Def 14) (9.4.1)\n",
    "Nechť {$a_k$}$\\subset \\mathbb{R}$ a $\\phi : \\mathbb{N} \\to \\mathbb{N}$ je bijekce. Pak řadu $\\sum_{k=1}^\\infty a_{\\phi(a_k)}$ nazveme přerovnáváním řady $\\sum_{k=1}^\\infty a_k$.  "
   ]
  },
  {
   "cell_type": "markdown",
   "id": "22d3c236-8b6a-4be4-aca8-ae05cab1dc27",
   "metadata": {},
   "source": [
    "# Kladná a záporná část (9.4.2)(bonusováý definice)\n",
    "Nechť $x\\in \\mathbb{R}$. Kladnou část čísla $x$ definujeme jako $x^+ = \\max${x,0} a zápornou část jako $x^- = \\max${-x,0}."
   ]
  },
  {
   "cell_type": "markdown",
   "id": "e0d88587-3dd9-4018-a546-5f7c2db6ab60",
   "metadata": {},
   "source": [
    "# Cauchyho součin (Def)(9.4.12)\n",
    "Mějme dvě číselné posloupnosti {$a_n$}$_{n=1}^\\infty$, {$b_n$}$_{n=1}^\\infty$ tak, že $\\sum_{n=1}^\\infty a_n$, $\\sum_{n=1}^\\infty b_n$ konverguje absolutně. Potom $\\sum_{i,j=1}^\\infty a_i b_j$ je Cauchyho součin."
   ]
  },
  {
   "cell_type": "markdown",
   "id": "8e55ab48-331a-4a95-b238-a19cd571e96b",
   "metadata": {},
   "source": [
    "# "
   ]
  },
  {
   "cell_type": "markdown",
   "id": "9b5478f6-2aed-47a3-95dd-407292e1a7ee",
   "metadata": {},
   "source": [
    "# "
   ]
  },
  {
   "cell_type": "markdown",
   "id": "559021e7-bb33-4240-96c9-fe3b82ee5af4",
   "metadata": {},
   "source": [
    "# "
   ]
  },
  {
   "cell_type": "markdown",
   "id": "7b271405-85e1-4631-8576-6131a6654b09",
   "metadata": {},
   "source": [
    "# Difky"
   ]
  },
  {
   "cell_type": "markdown",
   "id": "2de10cc5-cc46-454c-b6c8-fa976bd08fea",
   "metadata": {},
   "source": [
    "# Definice obyčejné diferenciální rovnice 8.2.1 (Def 1')\n",
    "Nechť $n \\in \\mathbb{N}$ a $f:\\mathbb{R}^{n+2} \\to \\mathbb{R}$. Pak\n",
    "\\begin{equation}\n",
    "f(x,y,y',...y^{n}) = 0,\n",
    "\\end{equation}\n",
    "se nazývá skalární obyčejnou diferenciální rovnicí n-tého řádu."
   ]
  },
  {
   "cell_type": "markdown",
   "id": "43cc68fd-2414-4fcc-b96c-986f414be06f",
   "metadata": {},
   "source": [
    "# Řešení obyčejné diferenciální rovnice 8.2.3  - optional, u Duška je\n",
    "Funkci $y:(a,b) \\to \\mathbb{R}$ nazveme řešením obyčejné diferenciální rovnice, pakliže:\n",
    "\n",
    "- $y$ má na $(a,b)$ vlastní derivace n-tého řádu.\n",
    "- pro všechna $x \\in (a,b)$ platí diferenciální rovnice.\n",
    "\n",
    "Trikově můžeme každou diferenciální rovnici přepsat do tvaru rozřešeného vzhledem k nevyšší derivaci:\n",
    "\n",
    "$$\n",
    "y^{(n)} = g(x,y,y',...,y^{(n-1)})\n",
    "$$\n"
   ]
  },
  {
   "cell_type": "markdown",
   "id": "730720d6-d8b7-458c-8a7a-d6851f20b15b",
   "metadata": {},
   "source": [
    "# Prodloužení řešení ODR 8.3.3 (Def 2)\n",
    "Nechť $y_1$ řeší rovnici $y' = F(x,y)$ na intervalu $(a_1,b_1)$ a $y_2$ řeší rovnici na $(a_2,b_2)$. Jestliže $(a_1,b_1) \\subset (a_2,b_2)$ a $y_1 = y_2$ na $(a_1,b_1)$, pak řekneme, že $y_2$ je prodloužením řešení $y_1$ na interval $(a_2,b_2)$. Řešení nazveme maximálním právě tehdy, když jej nemůžeme dále rozšiřovat. "
   ]
  },
  {
   "cell_type": "markdown",
   "id": "63806e62-f498-42a7-832a-30b5826966b0",
   "metadata": {},
   "source": [
    "# Limita funkce (8.1.2)\n",
    "Nechť $f: \\mathbb{R}^N \\to \\mathbb{R}$, $x_0 \\in \\mathbb{R}^N$ je hromadným bodem $D_f$ a $y_0 \\in \\mathbb{R}$. Řekneme, že zobrazení $f$ má v bodě $x_0$ limitu $y_0$, jestliže:\n",
    "$$\n",
    "\\forall \\epsilon > 0 \\exists \\delta >0 \\, \\, \\, x\\in P_{\\delta}(x_0) \\cap D_f => f(x) \\in U_\\epsilon (y_0)\n",
    "$$\n",
    "Právě tehdy můžeme psát klasickou limitu, a sice $\\lim_{x \\to x_0}f(x) = y_0$.\n"
   ]
  },
  {
   "cell_type": "markdown",
   "id": "8d91634e-c05a-4a46-a74c-559a6ce163f4",
   "metadata": {},
   "source": [
    "# Spojitost funkce 8.1.3\n",
    "Nechť $f:\\mathbb{R}^N \\to \\mathbb{R}$ a $x_0 \\in D_f$. Řekneme, že zobrazení $f$ je v bodě $x_0$ spojité, jestliže:\n",
    "$$\n",
    "\\forall \\epsilon >0 \\exists \\delta >0 \\, \\, x\\in U_\\delta (x_0) \\cap D_f => f(x) \\in U_\\epsilon (f(x_0))\n",
    "$$"
   ]
  },
  {
   "cell_type": "markdown",
   "id": "060846cb-ac93-436e-9a4a-06301dd9f3aa",
   "metadata": {},
   "source": [
    "# Systém ODR 8.2.4\n",
    "Nechť $F: \\mathbb{R}^{m+1} \\to \\mathbb{m}$. Pak:\n",
    "$$\n",
    "y' = F(x,y)\n",
    "$$\n",
    "\n",
    "je systém obyčejných diferenciálních rovnice prvního řádu (rozřešený vzhledem k první derivaci) pro $m$ neznámých funkcíc $y_1,...,y_m$. Jeho řešením na $(a,b)$ nazveme $y = (y_1,...,y_m):(a,b)\\to\\mathbb{R}^m$ splňující:\n",
    "- $y_1,...,y_m$ mají na $(a,b)$ vlastní derivace \n",
    "- pro všechna $x\\in (a,b)$ platí $y'(x) = F(x,y(x))$"
   ]
  },
  {
   "cell_type": "markdown",
   "id": "238460a2-a219-4d23-ba31-889a05806a94",
   "metadata": {},
   "source": [
    "# Cauchyho úloha 8.3.1\n",
    "Cauchyovou úlohou pro rovnici $y' = F(x,y)$ na $(a,b)$, kde $F: \\mathbb{R}^{n+1} \\to \\mathbb{R}$, rozumíme hledání vektorové funkce $y: \\mathbb{R} \\to \\mathbb{R}^n$ splňující $y'(x) = F(x,y(x))$ na $(a,b)$ a $y(x_0) = y_0$, kde $x_0 \\in (a,b)$ a $y_0 \\in \\mathbb{R}^n$ jsou zadaná hodnoty, které přirozeně patří do definičního oboru $F$."
   ]
  },
  {
   "cell_type": "markdown",
   "id": "13d747d7-bbc7-432b-969e-ae86dcd300e9",
   "metadata": {},
   "source": [
    "# Metrika a metrický prostor 11.1.1. (Def 1)\n",
    "## Metrika\n",
    "Mějme zobrazení $\\rho: p \\cross p \\to [0,\\infty)$. Toto zobrazení nazýváme metrikou právě tehdy, když:\n",
    "- 1. $\\rho(x,y) \\geq 0 \\forall x,y$ a $\\rho(x,y) = 0 <=> x=y$\n",
    "- 2. $\\rho(x,y) = \\rho(y,x)$\n",
    "- 3. $\\rho(x,z) \\leq \\rho(x,y)+\\rho$\n",
    "## Metrický prostor\n",
    "Množina, na níž je definovaná nějaká metrika $\\rho$. Značí se $(P,\\rho)$\n"
   ]
  },
  {
   "cell_type": "markdown",
   "id": "af6bd527-f857-4558-b000-8a2dfe97ad1b",
   "metadata": {},
   "source": [
    "# Norma a normovaný prostor 11.1.5 (Def 2)\n",
    "Mějme V - vektorový prostor nad $\\mathbb{R}$. Potom $||\\cdot||: V \\to [0,\\infty)$ nazveme normou právě tehdy, když $\\forall u,v$ a $\\lambda \\in \\mathbb{R}$ platí:\n",
    "- 1. $||u||\\geq 0$\n",
    "- 2. $||\\lambda u||$ = $|\\lambda|$ $||u||$\n",
    "- 3. $||u+v|| \\leq ||u||+||v||$\n",
    "\n",
    "Každý takovýto prostor nazýváme $V$ nazýváme normovaným lineárním prostorem."
   ]
  },
  {
   "cell_type": "markdown",
   "id": "02bbef48-86a8-4b01-a9f1-e2ee3758af17",
   "metadata": {},
   "source": [
    "# V skriptách není (Def 4)\n",
    "Mějme metrický prostor $(P,\\rho)$, $x \\in P$, $r>,$, pak množinu $B_\\rho = ${$y \\in P,\\rho(x,y)<r$} nazveme otevřenou koulí se středem $x$ a poloměrem $r$. Pokud bude metrika $\\rho$ jasná z kontextu, pak píšeme pouze $B(x,r)$"
   ]
  },
  {
   "cell_type": "markdown",
   "id": "f434b894-ac5f-4dbd-8d37-183d017153c9",
   "metadata": {},
   "source": [
    "# Základní srandy s metrickým prostorem (Def 5, číslo nemám)\n",
    "- 1. $A \\in P$ je otevřená právě tehdy, když $\\forall x  \\in A, \\exists r >0 B(x,y)\\subsetA$\n",
    "- 2. A je uzavřená právě tehdy, když P bez A je otevřená\n",
    "- 3. Vnitřek množiny $A \\subset P$je $A^o =${$x \\in A,\\exists r >0,B(x,r)\\subset A$}\n",
    "- 4. Uzávěr množiny $A \\subset P$ je definován jako $A^{-} = ${$x \\in P,\\forall x>0,B(x,r) \\cap A \\neq 0$}\n",
    "- 5. Hranice množiny $A \\subset P$ definujeme jako $jA = A^{-} \\cap (P \\setminus A)$"
   ]
  },
  {
   "cell_type": "markdown",
   "id": "63b21fe2-370e-4767-9c2c-0634a9b24479",
   "metadata": {},
   "source": [
    "# KOnvergence v metrickém prostoru 11.2.1 (Def 8)\n",
    "Nechť $(P,\\rho)$ je metrický prostor a {$x_n$} $\\subset P$ je posloupnost v něm. Řekneme, že $x_n$ konverguje k $x \\in P$ pro $n \\to \\infty$ právě tehdy, když $\\rho (x,x_n) \\to 0$. Tehdy píšeme, že $x_n \\to x$\n"
   ]
  },
  {
   "cell_type": "markdown",
   "id": "c0f7a599-15df-4b91-9048-eed5f569ca47",
   "metadata": {},
   "source": [
    "# Ekvivalentní normy a metriky 11.2.6 (Def 9)\n",
    "Nechť $(P,\\rho_1),(P,\\rho_2)$ jsou metrické prostory. Řekneme, že $\\rho_1$ a $\\rho_2$ jsou ekvivalentní právě tehdy, když $\\forall x,y \\in P$:\n",
    "$$\n",
    "c \\rho_1(x,y) \\leq \\rho_2(x,y) \\leq c\\rho(x,y)\n",
    "$$\n",
    "Atejné tvrzení platí i pro normy."
   ]
  }
 ],
 "metadata": {
  "kernelspec": {
   "display_name": "Python 3 (ipykernel)",
   "language": "python",
   "name": "python3"
  },
  "language_info": {
   "codemirror_mode": {
    "name": "ipython",
    "version": 3
   },
   "file_extension": ".py",
   "mimetype": "text/x-python",
   "name": "python",
   "nbconvert_exporter": "python",
   "pygments_lexer": "ipython3",
   "version": "3.11.5"
  }
 },
 "nbformat": 4,
 "nbformat_minor": 5
}
