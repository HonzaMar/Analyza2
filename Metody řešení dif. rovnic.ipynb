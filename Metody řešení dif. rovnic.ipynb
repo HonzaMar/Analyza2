{
 "cells": [
  {
   "cell_type": "markdown",
   "id": "ed00c2fe-fc20-49c4-ae64-5cadd404b79a",
   "metadata": {},
   "source": [
    "# todo\n"
   ]
  },
  {
   "cell_type": "code",
   "execution_count": null,
   "id": "438bb6f7-717b-446a-a67e-328bda680f75",
   "metadata": {},
   "outputs": [],
   "source": []
  }
 ],
 "metadata": {
  "kernelspec": {
   "display_name": "Python 3 (ipykernel)",
   "language": "python",
   "name": "python3"
  },
  "language_info": {
   "codemirror_mode": {
    "name": "ipython",
    "version": 3
   },
   "file_extension": ".py",
   "mimetype": "text/x-python",
   "name": "python",
   "nbconvert_exporter": "python",
   "pygments_lexer": "ipython3",
   "version": "3.11.4"
  }
 },
 "nbformat": 4,
 "nbformat_minor": 5
}
